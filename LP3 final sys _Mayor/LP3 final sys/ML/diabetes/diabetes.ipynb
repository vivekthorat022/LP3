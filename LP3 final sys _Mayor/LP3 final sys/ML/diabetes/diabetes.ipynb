{
 "cells": [
  {
   "cell_type": "code",
   "execution_count": 1,
   "id": "2b5a5cce-c792-479e-ae34-b5d9685bee95",
   "metadata": {},
   "outputs": [],
   "source": [
    " # Step 1: Import necessary libraries\n",
    " import pandas as pd\n",
    " import numpy as np\n",
    " from sklearn.model_selection import train_test_split\n",
    " from sklearn.preprocessing import StandardScaler\n",
    " from sklearn.neighbors import KNeighborsClassifier\n",
    " from sklearn.metrics import confusion_matrix, accuracy_score, precision_score, recall_score"
   ]
  },
  {
   "cell_type": "code",
   "execution_count": 3,
   "id": "60d5ff9b-8697-4e62-af04-4dbc547547d4",
   "metadata": {},
   "outputs": [
    {
     "name": "stdout",
     "output_type": "stream",
     "text": [
      "Confusion Matrix:\n",
      " [[81 20]\n",
      " [24 29]]\n",
      "Accuracy: 71.43%\n",
      "Error Rate: 28.57%\n",
      "Precision: 0.59\n",
      "Recall: 0.55\n"
     ]
    }
   ],
   "source": [
    " # Step 2: Load the dataset\n",
    " url = 'diabetes.csv'\n",
    " columns = ['Pregnancies', 'Glucose', 'BloodPressure', 'SkinThickness', 'Insulin', 'BMI', 'DiabetesPedigreeFunction', 'Age', 'Outcome']\n",
    " df = pd.read_csv(url, names=columns)\n",
    " # Step 3: Convert all columns to numeric (since they are read as 'object' or strings)\n",
    " df = df.apply(pd.to_numeric, errors='coerce')\n",
    " # Step 4: Check for missing values and handle them (e.g., fill NaNs with the mean of the column)\n",
    " df.fillna(df.mean(), inplace=True)\n",
    " # Step 5: Feature set and target set\n",
    " X = df.drop('Outcome', axis=1) # Features\n",
    " y = df['Outcome'].astype(int) # Ensure the target 'Outcome' is integer (0 or 1)\n",
    " # Step 6: Split the dataset into training and test sets (80% train, 20% test)\n",
    " X_train, X_test, y_train, y_test = train_test_split(X, y, test_size=0.2, random_state=42)\n",
    " # Step 7: Normalize the train and test data using StandardScaler\n",
    " scaler = StandardScaler()\n",
    " X_train = scaler.fit_transform(X_train)\n",
    " X_test = scaler.transform(X_test)\n",
    " # Step 8: Initialize the KNN model and train it\n",
    " k = 5 # Number of neighbors\n",
    " knn = KNeighborsClassifier(n_neighbors=k)\n",
    " knn.fit(X_train, y_train) # Ensure y_train is categorical (0 or 1)\n",
    " # Step 9: Predict on the test set\n",
    " y_pred = knn.predict(X_test)\n",
    " # Step 10: Compute Confusion Matrix\n",
    " cm = confusion_matrix(y_test, y_pred)\n",
    " print(\"Confusion Matrix:\\n\", cm)\n",
    " # Step 11: Compute Accuracy, Error Rate, Precision, and Recall\n",
    " accuracy = accuracy_score(y_test, y_pred)\n",
    " error_rate = 1-accuracy\n",
    " precision = precision_score(y_test, y_pred)\n",
    " recall = recall_score(y_test, y_pred)\n",
    " # Print evaluation metrics\n",
    " print(f'Accuracy: {accuracy * 100:.2f}%')\n",
    " print(f'Error Rate: {error_rate * 100:.2f}%')\n",
    " print(f'Precision: {precision:.2f}')\n",
    " print(f'Recall: {recall:.2f}')"
   ]
  },
  {
   "cell_type": "code",
   "execution_count": null,
   "id": "149fa863-f18e-4ec9-9d83-d6d6305f6b29",
   "metadata": {},
   "outputs": [],
   "source": []
  }
 ],
 "metadata": {
  "kernelspec": {
   "display_name": "Python 3 (ipykernel)",
   "language": "python",
   "name": "python3"
  },
  "language_info": {
   "codemirror_mode": {
    "name": "ipython",
    "version": 3
   },
   "file_extension": ".py",
   "mimetype": "text/x-python",
   "name": "python",
   "nbconvert_exporter": "python",
   "pygments_lexer": "ipython3",
   "version": "3.10.6"
  }
 },
 "nbformat": 4,
 "nbformat_minor": 5
}
